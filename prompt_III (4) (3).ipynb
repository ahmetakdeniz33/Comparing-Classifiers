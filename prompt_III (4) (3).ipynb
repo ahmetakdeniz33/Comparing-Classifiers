{
 "cells": [
  {
   "cell_type": "markdown",
   "metadata": {},
   "source": [
    "# Practical Application III: Comparing Classifiers\n",
    "\n",
    "**Overview**: In this practical application, your goal is to compare the performance of the classifiers we encountered in this section, namely K Nearest Neighbor, Logistic Regression, Decision Trees, and Support Vector Machines.  We will utilize a dataset related to marketing bank products over the telephone.  \n",
    "\n"
   ]
  },
  {
   "cell_type": "markdown",
   "metadata": {},
   "source": [
    "### Getting Started\n",
    "\n",
    "Our dataset comes from the UCI Machine Learning repository [link](https://archive.ics.uci.edu/ml/datasets/bank+marketing).  The data is from a Portugese banking institution and is a collection of the results of multiple marketing campaigns.  We will make use of the article accompanying the dataset [here](CRISP-DM-BANK.pdf) for more information on the data and features.\n",
    "\n"
   ]
  },
  {
   "cell_type": "code",
   "execution_count": 1,
   "metadata": {},
   "outputs": [],
   "source": [
    "import numpy as np\n",
    "import pandas as pd\n",
    "import matplotlib.pyplot as plt\n",
    "import seaborn as sns\n",
    "\n",
    "from sklearn.model_selection import train_test_split, GridSearchCV, StratifiedKFold, cross_val_score\n",
    "from sklearn.pipeline import Pipeline\n",
    "from sklearn.compose import ColumnTransformer\n",
    "from sklearn.preprocessing import OneHotEncoder, StandardScaler, OrdinalEncoder\n",
    "from sklearn.impute import SimpleImputer\n",
    "from sklearn.metrics import (confusion_matrix, classification_report, \n",
    "                             roc_auc_score, roc_curve, precision_recall_curve,\n",
    "                             average_precision_score)\n",
    "from sklearn.neighbors import KNeighborsClassifier\n",
    "from sklearn.linear_model import LogisticRegression\n",
    "from sklearn.tree import DecisionTreeClassifier, plot_tree\n",
    "from sklearn.svm import SVC"
   ]
  },
  {
   "cell_type": "markdown",
   "metadata": {},
   "source": [
    "### Problem 1: Understanding the Data\n",
    "\n",
    "To gain a better understanding of the data, please read the information provided in the UCI link above, and examine the **Materials and Methods** section of the paper.  How many marketing campaigns does this data represent?"
   ]
  },
  {
   "cell_type": "code",
   "execution_count": 3,
   "metadata": {},
   "outputs": [],
   "source": [
    "#The dataset collected is related to 17 campaigns that\n",
    "#occurred between May 2008 and November 2010,\n",
    "#corresponding to a total of 79354 contacts.(YOU CAN FIND IT ---CRISP-DM-BANK.pdf ---)"
   ]
  },
  {
   "cell_type": "markdown",
   "metadata": {},
   "source": [
    "### Problem 2: Read in the Data\n",
    "\n",
    "Use pandas to read in the dataset `bank-additional-full.csv` and assign to a meaningful variable name."
   ]
  },
  {
   "cell_type": "code",
   "execution_count": 2,
   "metadata": {},
   "outputs": [],
   "source": [
    "df = pd.read_csv(\"bank-additional-full.csv\", sep=\";\")\n",
    "#Why sep=';'?\n",
    "#The original dataset was saved in European CSV style, where ; \n",
    "#is the delimiter (commas are often used as decimal separators there).( I NEEDED TO GOOGLE IT FOR USING';')"
   ]
  },
  {
   "cell_type": "code",
   "execution_count": 3,
   "metadata": {},
   "outputs": [
    {
     "data": {
      "text/html": [
       "<div>\n",
       "<style scoped>\n",
       "    .dataframe tbody tr th:only-of-type {\n",
       "        vertical-align: middle;\n",
       "    }\n",
       "\n",
       "    .dataframe tbody tr th {\n",
       "        vertical-align: top;\n",
       "    }\n",
       "\n",
       "    .dataframe thead th {\n",
       "        text-align: right;\n",
       "    }\n",
       "</style>\n",
       "<table border=\"1\" class=\"dataframe\">\n",
       "  <thead>\n",
       "    <tr style=\"text-align: right;\">\n",
       "      <th></th>\n",
       "      <th>age</th>\n",
       "      <th>job</th>\n",
       "      <th>marital</th>\n",
       "      <th>education</th>\n",
       "      <th>default</th>\n",
       "      <th>housing</th>\n",
       "      <th>loan</th>\n",
       "      <th>contact</th>\n",
       "      <th>month</th>\n",
       "      <th>day_of_week</th>\n",
       "      <th>...</th>\n",
       "      <th>campaign</th>\n",
       "      <th>pdays</th>\n",
       "      <th>previous</th>\n",
       "      <th>poutcome</th>\n",
       "      <th>emp.var.rate</th>\n",
       "      <th>cons.price.idx</th>\n",
       "      <th>cons.conf.idx</th>\n",
       "      <th>euribor3m</th>\n",
       "      <th>nr.employed</th>\n",
       "      <th>y</th>\n",
       "    </tr>\n",
       "  </thead>\n",
       "  <tbody>\n",
       "    <tr>\n",
       "      <th>0</th>\n",
       "      <td>56</td>\n",
       "      <td>housemaid</td>\n",
       "      <td>married</td>\n",
       "      <td>basic.4y</td>\n",
       "      <td>no</td>\n",
       "      <td>no</td>\n",
       "      <td>no</td>\n",
       "      <td>telephone</td>\n",
       "      <td>may</td>\n",
       "      <td>mon</td>\n",
       "      <td>...</td>\n",
       "      <td>1</td>\n",
       "      <td>999</td>\n",
       "      <td>0</td>\n",
       "      <td>nonexistent</td>\n",
       "      <td>1.1</td>\n",
       "      <td>93.994</td>\n",
       "      <td>-36.4</td>\n",
       "      <td>4.857</td>\n",
       "      <td>5191.0</td>\n",
       "      <td>no</td>\n",
       "    </tr>\n",
       "    <tr>\n",
       "      <th>1</th>\n",
       "      <td>57</td>\n",
       "      <td>services</td>\n",
       "      <td>married</td>\n",
       "      <td>high.school</td>\n",
       "      <td>unknown</td>\n",
       "      <td>no</td>\n",
       "      <td>no</td>\n",
       "      <td>telephone</td>\n",
       "      <td>may</td>\n",
       "      <td>mon</td>\n",
       "      <td>...</td>\n",
       "      <td>1</td>\n",
       "      <td>999</td>\n",
       "      <td>0</td>\n",
       "      <td>nonexistent</td>\n",
       "      <td>1.1</td>\n",
       "      <td>93.994</td>\n",
       "      <td>-36.4</td>\n",
       "      <td>4.857</td>\n",
       "      <td>5191.0</td>\n",
       "      <td>no</td>\n",
       "    </tr>\n",
       "    <tr>\n",
       "      <th>2</th>\n",
       "      <td>37</td>\n",
       "      <td>services</td>\n",
       "      <td>married</td>\n",
       "      <td>high.school</td>\n",
       "      <td>no</td>\n",
       "      <td>yes</td>\n",
       "      <td>no</td>\n",
       "      <td>telephone</td>\n",
       "      <td>may</td>\n",
       "      <td>mon</td>\n",
       "      <td>...</td>\n",
       "      <td>1</td>\n",
       "      <td>999</td>\n",
       "      <td>0</td>\n",
       "      <td>nonexistent</td>\n",
       "      <td>1.1</td>\n",
       "      <td>93.994</td>\n",
       "      <td>-36.4</td>\n",
       "      <td>4.857</td>\n",
       "      <td>5191.0</td>\n",
       "      <td>no</td>\n",
       "    </tr>\n",
       "    <tr>\n",
       "      <th>3</th>\n",
       "      <td>40</td>\n",
       "      <td>admin.</td>\n",
       "      <td>married</td>\n",
       "      <td>basic.6y</td>\n",
       "      <td>no</td>\n",
       "      <td>no</td>\n",
       "      <td>no</td>\n",
       "      <td>telephone</td>\n",
       "      <td>may</td>\n",
       "      <td>mon</td>\n",
       "      <td>...</td>\n",
       "      <td>1</td>\n",
       "      <td>999</td>\n",
       "      <td>0</td>\n",
       "      <td>nonexistent</td>\n",
       "      <td>1.1</td>\n",
       "      <td>93.994</td>\n",
       "      <td>-36.4</td>\n",
       "      <td>4.857</td>\n",
       "      <td>5191.0</td>\n",
       "      <td>no</td>\n",
       "    </tr>\n",
       "    <tr>\n",
       "      <th>4</th>\n",
       "      <td>56</td>\n",
       "      <td>services</td>\n",
       "      <td>married</td>\n",
       "      <td>high.school</td>\n",
       "      <td>no</td>\n",
       "      <td>no</td>\n",
       "      <td>yes</td>\n",
       "      <td>telephone</td>\n",
       "      <td>may</td>\n",
       "      <td>mon</td>\n",
       "      <td>...</td>\n",
       "      <td>1</td>\n",
       "      <td>999</td>\n",
       "      <td>0</td>\n",
       "      <td>nonexistent</td>\n",
       "      <td>1.1</td>\n",
       "      <td>93.994</td>\n",
       "      <td>-36.4</td>\n",
       "      <td>4.857</td>\n",
       "      <td>5191.0</td>\n",
       "      <td>no</td>\n",
       "    </tr>\n",
       "  </tbody>\n",
       "</table>\n",
       "<p>5 rows × 21 columns</p>\n",
       "</div>"
      ],
      "text/plain": [
       "   age        job  marital    education  default housing loan    contact  \\\n",
       "0   56  housemaid  married     basic.4y       no      no   no  telephone   \n",
       "1   57   services  married  high.school  unknown      no   no  telephone   \n",
       "2   37   services  married  high.school       no     yes   no  telephone   \n",
       "3   40     admin.  married     basic.6y       no      no   no  telephone   \n",
       "4   56   services  married  high.school       no      no  yes  telephone   \n",
       "\n",
       "  month day_of_week  ...  campaign  pdays  previous     poutcome emp.var.rate  \\\n",
       "0   may         mon  ...         1    999         0  nonexistent          1.1   \n",
       "1   may         mon  ...         1    999         0  nonexistent          1.1   \n",
       "2   may         mon  ...         1    999         0  nonexistent          1.1   \n",
       "3   may         mon  ...         1    999         0  nonexistent          1.1   \n",
       "4   may         mon  ...         1    999         0  nonexistent          1.1   \n",
       "\n",
       "   cons.price.idx  cons.conf.idx  euribor3m  nr.employed   y  \n",
       "0          93.994          -36.4      4.857       5191.0  no  \n",
       "1          93.994          -36.4      4.857       5191.0  no  \n",
       "2          93.994          -36.4      4.857       5191.0  no  \n",
       "3          93.994          -36.4      4.857       5191.0  no  \n",
       "4          93.994          -36.4      4.857       5191.0  no  \n",
       "\n",
       "[5 rows x 21 columns]"
      ]
     },
     "execution_count": 3,
     "metadata": {},
     "output_type": "execute_result"
    }
   ],
   "source": [
    "df.head()"
   ]
  },
  {
   "cell_type": "markdown",
   "metadata": {},
   "source": [
    "### Problem 3: Understanding the Features\n",
    "\n",
    "\n",
    "Examine the data description below, and determine if any of the features are missing values or need to be coerced to a different data type.\n",
    "\n",
    "\n",
    "```\n",
    "Input variables:\n",
    "# bank client data:\n",
    "1 - age (numeric)\n",
    "2 - job : type of job (categorical: 'admin.','blue-collar','entrepreneur','housemaid','management','retired','self-employed','services','student','technician','unemployed','unknown')\n",
    "3 - marital : marital status (categorical: 'divorced','married','single','unknown'; note: 'divorced' means divorced or widowed)\n",
    "4 - education (categorical: 'basic.4y','basic.6y','basic.9y','high.school','illiterate','professional.course','university.degree','unknown')\n",
    "5 - default: has credit in default? (categorical: 'no','yes','unknown')\n",
    "6 - housing: has housing loan? (categorical: 'no','yes','unknown')\n",
    "7 - loan: has personal loan? (categorical: 'no','yes','unknown')\n",
    "# related with the last contact of the current campaign:\n",
    "8 - contact: contact communication type (categorical: 'cellular','telephone')\n",
    "9 - month: last contact month of year (categorical: 'jan', 'feb', 'mar', ..., 'nov', 'dec')\n",
    "10 - day_of_week: last contact day of the week (categorical: 'mon','tue','wed','thu','fri')\n",
    "11 - duration: last contact duration, in seconds (numeric). Important note: this attribute highly affects the output target (e.g., if duration=0 then y='no'). Yet, the duration is not known before a call is performed. Also, after the end of the call y is obviously known. Thus, this input should only be included for benchmark purposes and should be discarded if the intention is to have a realistic predictive model.\n",
    "# other attributes:\n",
    "12 - campaign: number of contacts performed during this campaign and for this client (numeric, includes last contact)\n",
    "13 - pdays: number of days that passed by after the client was last contacted from a previous campaign (numeric; 999 means client was not previously contacted)\n",
    "14 - previous: number of contacts performed before this campaign and for this client (numeric)\n",
    "15 - poutcome: outcome of the previous marketing campaign (categorical: 'failure','nonexistent','success')\n",
    "# social and economic context attributes\n",
    "16 - emp.var.rate: employment variation rate - quarterly indicator (numeric)\n",
    "17 - cons.price.idx: consumer price index - monthly indicator (numeric)\n",
    "18 - cons.conf.idx: consumer confidence index - monthly indicator (numeric)\n",
    "19 - euribor3m: euribor 3 month rate - daily indicator (numeric)\n",
    "20 - nr.employed: number of employees - quarterly indicator (numeric)\n",
    "\n",
    "Output variable (desired target):\n",
    "21 - y - has the client subscribed a term deposit? (binary: 'yes','no')\n",
    "```\n",
    "\n"
   ]
  },
  {
   "cell_type": "code",
   "execution_count": 4,
   "metadata": {},
   "outputs": [
    {
     "name": "stdout",
     "output_type": "stream",
     "text": [
      "<class 'pandas.core.frame.DataFrame'>\n",
      "RangeIndex: 41188 entries, 0 to 41187\n",
      "Data columns (total 21 columns):\n",
      " #   Column          Non-Null Count  Dtype  \n",
      "---  ------          --------------  -----  \n",
      " 0   age             41188 non-null  int64  \n",
      " 1   job             41188 non-null  object \n",
      " 2   marital         41188 non-null  object \n",
      " 3   education       41188 non-null  object \n",
      " 4   default         41188 non-null  object \n",
      " 5   housing         41188 non-null  object \n",
      " 6   loan            41188 non-null  object \n",
      " 7   contact         41188 non-null  object \n",
      " 8   month           41188 non-null  object \n",
      " 9   day_of_week     41188 non-null  object \n",
      " 10  duration        41188 non-null  int64  \n",
      " 11  campaign        41188 non-null  int64  \n",
      " 12  pdays           41188 non-null  int64  \n",
      " 13  previous        41188 non-null  int64  \n",
      " 14  poutcome        41188 non-null  object \n",
      " 15  emp.var.rate    41188 non-null  float64\n",
      " 16  cons.price.idx  41188 non-null  float64\n",
      " 17  cons.conf.idx   41188 non-null  float64\n",
      " 18  euribor3m       41188 non-null  float64\n",
      " 19  nr.employed     41188 non-null  float64\n",
      " 20  y               41188 non-null  object \n",
      "dtypes: float64(5), int64(5), object(11)\n",
      "memory usage: 6.6+ MB\n"
     ]
    }
   ],
   "source": [
    "df.info()"
   ]
  },
  {
   "cell_type": "code",
   "execution_count": 5,
   "metadata": {},
   "outputs": [
    {
     "data": {
      "text/plain": [
       "age               0\n",
       "job               0\n",
       "marital           0\n",
       "education         0\n",
       "default           0\n",
       "housing           0\n",
       "loan              0\n",
       "contact           0\n",
       "month             0\n",
       "day_of_week       0\n",
       "duration          0\n",
       "campaign          0\n",
       "pdays             0\n",
       "previous          0\n",
       "poutcome          0\n",
       "emp.var.rate      0\n",
       "cons.price.idx    0\n",
       "cons.conf.idx     0\n",
       "euribor3m         0\n",
       "nr.employed       0\n",
       "y                 0\n",
       "dtype: int64"
      ]
     },
     "execution_count": 5,
     "metadata": {},
     "output_type": "execute_result"
    }
   ],
   "source": [
    "# There is no missing value\n",
    "df.isna().sum()"
   ]
  },
  {
   "cell_type": "code",
   "execution_count": 8,
   "metadata": {},
   "outputs": [
    {
     "name": "stdout",
     "output_type": "stream",
     "text": [
      "After data preparation:\n",
      "age                        int64\n",
      "job                     category\n",
      "marital                 category\n",
      "education               category\n",
      "default                 category\n",
      "housing                 category\n",
      "loan                    category\n",
      "contact                 category\n",
      "month                   category\n",
      "day_of_week             category\n",
      "duration                   int64\n",
      "campaign                   int64\n",
      "pdays                      int64\n",
      "previous                   int64\n",
      "poutcome                category\n",
      "emp.var.rate             float64\n",
      "cons.price.idx           float64\n",
      "cons.conf.idx            float64\n",
      "euribor3m                float64\n",
      "nr.employed              float64\n",
      "y                         object\n",
      "previously_contacted       int64\n",
      "y_binary                   int64\n",
      "dtype: object\n",
      "Count of \"unknown\" values in categorical columns:\n",
      "job: 330 (0.80%)\n",
      "marital: 80 (0.19%)\n",
      "education: 1731 (4.20%)\n",
      "default: 8597 (20.87%)\n",
      "housing: 990 (2.40%)\n",
      "loan: 990 (2.40%)\n",
      "Sample of prepared data:\n",
      "   age        job    education  pdays  previously_contacted   y  y_binary\n",
      "0   56  housemaid     basic.4y     -1                     0  no         0\n",
      "1   57   services  high.school     -1                     0  no         0\n",
      "2   37   services  high.school     -1                     0  no         0\n",
      "3   40     admin.     basic.6y     -1                     0  no         0\n",
      "4   56   services  high.school     -1                     0  no         0\n",
      "Target variable distribution:\n",
      "y\n",
      "no     36548\n",
      "yes     4640\n",
      "Name: count, dtype: int64\n",
      "y_binary\n",
      "0    36548\n",
      "1     4640\n",
      "Name: count, dtype: int64\n"
     ]
    }
   ],
   "source": [
    "# 1. Convert categorical variables to pandas categorical type\n",
    "categorical_cols = ['job', 'marital', 'education', 'default', 'housing', \n",
    "                   'loan', 'contact', 'month', 'day_of_week', 'poutcome']\n",
    "                   \n",
    "for col in categorical_cols:\n",
    "    df[col] = df[col].astype('category')\n",
    "\n",
    "# 2. Handle the special value 999 in pdays\n",
    "# Create a new binary feature indicating if the client was contacted before\n",
    "df['previously_contacted'] = np.where(df['pdays'] == 999, 0, 1)\n",
    "# Replace 999 with -1 to better represent 'not contacted before'\n",
    "df['pdays'] = df['pdays'].replace(999, -1)\n",
    "\n",
    "# 3. Convert the target variable to binary numeric format\n",
    "df['y_binary'] = df['y'].map({'yes': 1, 'no': 0})\n",
    "\n",
    "print('After data preparation:')\n",
    "print(df.dtypes)\n",
    "\n",
    "# 4. Summary of 'unknown' values in categorical columns\n",
    "print('Count of \"unknown\" values in categorical columns:')\n",
    "for col in categorical_cols:\n",
    "    unknown_count = (df[col] == 'unknown').sum()\n",
    "    if unknown_count > 0:\n",
    "        print(f'{col}: {unknown_count} ({unknown_count/len(df)*100:.2f}%)')\n",
    "\n",
    "# Display sample of the prepared data\n",
    "print('Sample of prepared data:')\n",
    "print(df[['age', 'job', 'education', 'pdays', 'previously_contacted', 'y', 'y_binary']].head())\n",
    "\n",
    "# Class distribution of target variable\n",
    "print('Target variable distribution:')\n",
    "print(df['y'].value_counts())\n",
    "print(df['y_binary'].value_counts())"
   ]
  },
  {
   "cell_type": "markdown",
   "metadata": {},
   "source": [
    "### Problem 4: Understanding the Task\n",
    "\n",
    "After examining the description and data, your goal now is to clearly state the *Business Objective* of the task.  State the objective below."
   ]
  },
  {
   "cell_type": "code",
   "execution_count": 8,
   "metadata": {},
   "outputs": [],
   "source": [
    "#Business Object is specific goal that we aim to achieve(It usually increase the sales.)"
   ]
  },
  {
   "cell_type": "code",
   "execution_count": 9,
   "metadata": {},
   "outputs": [
    {
     "name": "stdout",
     "output_type": "stream",
     "text": [
      "<class 'pandas.core.frame.DataFrame'>\n",
      "RangeIndex: 41188 entries, 0 to 41187\n",
      "Data columns (total 23 columns):\n",
      " #   Column                Non-Null Count  Dtype   \n",
      "---  ------                --------------  -----   \n",
      " 0   age                   41188 non-null  int64   \n",
      " 1   job                   41188 non-null  category\n",
      " 2   marital               41188 non-null  category\n",
      " 3   education             41188 non-null  category\n",
      " 4   default               41188 non-null  category\n",
      " 5   housing               41188 non-null  category\n",
      " 6   loan                  41188 non-null  category\n",
      " 7   contact               41188 non-null  category\n",
      " 8   month                 41188 non-null  category\n",
      " 9   day_of_week           41188 non-null  category\n",
      " 10  duration              41188 non-null  int64   \n",
      " 11  campaign              41188 non-null  int64   \n",
      " 12  pdays                 41188 non-null  int64   \n",
      " 13  previous              41188 non-null  int64   \n",
      " 14  poutcome              41188 non-null  category\n",
      " 15  emp.var.rate          41188 non-null  float64 \n",
      " 16  cons.price.idx        41188 non-null  float64 \n",
      " 17  cons.conf.idx         41188 non-null  float64 \n",
      " 18  euribor3m             41188 non-null  float64 \n",
      " 19  nr.employed           41188 non-null  float64 \n",
      " 20  y                     41188 non-null  object  \n",
      " 21  previously_contacted  41188 non-null  int64   \n",
      " 22  y_binary              41188 non-null  int64   \n",
      "dtypes: category(10), float64(5), int64(7), object(1)\n",
      "memory usage: 4.5+ MB\n"
     ]
    }
   ],
   "source": [
    "df.info()"
   ]
  },
  {
   "cell_type": "code",
   "execution_count": 10,
   "metadata": {},
   "outputs": [],
   "source": [
    "#To develop a predictive model that helps the bank identify which clients are most likely to subscribe \n",
    "#to a term deposit during a marketing campaign.( Basically data driven model that helps our goal.) \n",
    "#This will enable the bank to optimize its telemarketing efforts,\n",
    "#reduce wasted calls, improve conversion rates, \n",
    "#and allocate resources more efficiently in future campaigns.(Make more profits)"
   ]
  },
  {
   "cell_type": "code",
   "execution_count": 10,
   "metadata": {},
   "outputs": [
    {
     "data": {
      "image/png": "[encoded data removed]",
      "text/plain": [
       "<Figure size 1200x800 with 9 Axes>"
      ]
     },
     "metadata": {},
     "output_type": "display_data"
    }
   ],
   "source": [
    "# Numeric histograms (example)\n",
    "num_cols = ['age','duration','campaign','pdays','previous','euribor3m','cons.price.idx','cons.conf.idx','nr.employed']\n",
    "df[num_cols].hist(figsize=(12,8), bins=30)\n",
    "plt.tight_layout()"
   ]
  },
  {
   "cell_type": "code",
   "execution_count": 12,
   "metadata": {},
   "outputs": [],
   "source": [
    "# WE DID NUMERIC HISTOGRAM BECAUSE;\n",
    "#We can explore the distribution of multiple numerical variables quickly.\n",
    "#We can detect patterns like skewness and outliers.\n",
    "#We will be able to get insights about our data which can help in further data cleaning,\n",
    "#feature engineering, or choosing appropriate statistical/machine learning models.\n",
    "#(Good thing we do not have missing values)"
   ]
  },
  {
   "cell_type": "code",
   "execution_count": 11,
   "metadata": {},
   "outputs": [
    {
     "data": {
      "text/plain": [
       "y\n",
       "no     36548\n",
       "yes     4640\n",
       "Name: count, dtype: int64"
      ]
     },
     "metadata": {},
     "output_type": "display_data"
    },
    {
     "data": {
      "text/plain": [
       "y\n",
       "no     88.73\n",
       "yes    11.27\n",
       "Name: proportion, dtype: float64"
      ]
     },
     "metadata": {},
     "output_type": "display_data"
    }
   ],
   "source": [
    "display(df['y'].value_counts()) #(We want to see how many 'yes' and how many 'no' are in the dataset.  \n",
    "display(df['y'].value_counts(normalize=True).mul(100).round(2))  # We can see the percentage."
   ]
  },
  {
   "cell_type": "code",
   "execution_count": 14,
   "metadata": {},
   "outputs": [],
   "source": [
    "# Our dataset is highly imbalanced.\n",
    "#'NO' class is almost 8 times higher than 'YES' class.\n",
    "#This imbalance can cause problems for many machine learning models \n",
    "#because they may learn to just predict the majority class (\"no\") to get high accuracy\n",
    "#but fail to correctly identify the minority class (\"yes\")."
   ]
  },
  {
   "cell_type": "code",
   "execution_count": 12,
   "metadata": {},
   "outputs": [
    {
     "data": {
      "image/png": "[encoded data removed]",
      "text/plain": [
       "<Figure size 800x500 with 1 Axes>"
      ]
     },
     "metadata": {},
     "output_type": "display_data"
    }
   ],
   "source": [
    "# Boxplot for duration by target\n",
    "plt.figure(figsize=(8,5))\n",
    "sns.boxplot(x='y', y='duration', data=df)\n",
    "plt.title('Call Duration by Subscription Outcome')\n",
    "plt.ylim(0, 2000)\n",
    "plt.show()"
   ]
  },
  {
   "cell_type": "code",
   "execution_count": 16,
   "metadata": {},
   "outputs": [],
   "source": [
    "#We can analyze the distribution of call duration between customers who subscribed (y = yes) and \n",
    "#those who did not (y = no)."
   ]
  },
  {
   "cell_type": "code",
   "execution_count": null,
   "metadata": {},
   "outputs": [],
   "source": []
  },
  {
   "cell_type": "code",
   "execution_count": null,
   "metadata": {},
   "outputs": [],
   "source": []
  },
  {
   "cell_type": "markdown",
   "metadata": {},
   "source": [
    "### Problem 5: Engineering Features\n",
    "\n",
    "Now that you understand your business objective, we will build a basic model to get started.  Before we can do this, we must work to encode the data.  Using just the bank information features, prepare the features and target column for modeling with appropriate encoding and transformations."
   ]
  },
  {
   "cell_type": "code",
   "execution_count": 13,
   "metadata": {},
   "outputs": [],
   "source": [
    "## feature columns\n",
    "bank_features = ['age', 'job', 'marital', 'education', 'default', 'housing', 'loan',\n",
    "                 'contact', 'month', 'day_of_week', 'campaign', 'pdays', 'previous',\n",
    "                 'poutcome', 'emp.var.rate', 'cons.price.idx', 'cons.conf.idx',\n",
    "                 'euribor3m', 'nr.employed']"
   ]
  },
  {
   "cell_type": "code",
   "execution_count": 14,
   "metadata": {},
   "outputs": [],
   "source": [
    "target = 'y'\n",
    "X = df.drop(columns=[target])\n",
    "y = df[target].map({'yes': 1, 'no': 0})  # binary encoding target. ML model needs numaerical targets.\n",
    "\n",
    "# We need to define categorical and numerical columns\n",
    "categorical_cols = ['job', 'marital', 'education', 'default', 'housing', 'loan', 'contact', 'month', 'day_of_week', 'poutcome']\n",
    "numerical_cols = ['age', 'campaign', 'pdays', 'previous', 'emp.var.rate', 'cons.price.idx', 'cons.conf.idx', 'euribor3m', 'nr.employed']\n",
    "\n",
    "# We need turn categorical variables into numbers(encode)\n",
    "# We should implement scaling for numerical variables for better model performance.\n",
    "\n",
    "# Pre-processing pipeline\n",
    "preprocessor = ColumnTransformer(\n",
    "    transformers=[\n",
    "        ('num', StandardScaler(), numerical_cols),\n",
    "        ('cat', OneHotEncoder(handle_unknown='ignore'), categorical_cols)\n",
    "    ])\n",
    "#Handle_unknown ='ignore' if new categories appear during the transform \n",
    "#ignore it encode as zero instead of error.(I just learned that.)\n",
    "# Fit and transform features\n",
    "X_encoded = preprocessor.fit_transform(X)\n",
    "\n",
    "# Now X_encoded is a numeric array ready for modeling.(Ready to go)\n",
    "# y is our binary target"
   ]
  },
  {
   "cell_type": "code",
   "execution_count": null,
   "metadata": {},
   "outputs": [],
   "source": []
  },
  {
   "cell_type": "code",
   "execution_count": null,
   "metadata": {},
   "outputs": [],
   "source": []
  },
  {
   "cell_type": "code",
   "execution_count": null,
   "metadata": {},
   "outputs": [],
   "source": []
  },
  {
   "cell_type": "code",
   "execution_count": null,
   "metadata": {},
   "outputs": [],
   "source": []
  },
  {
   "cell_type": "markdown",
   "metadata": {},
   "source": [
    "### Problem 6: Train/Test Split\n",
    "\n",
    "With your data prepared, split it into a train and test set."
   ]
  },
  {
   "cell_type": "code",
   "execution_count": 15,
   "metadata": {},
   "outputs": [
    {
     "name": "stdout",
     "output_type": "stream",
     "text": [
      "Training samples: 32950\n",
      "Testing samples: 8238\n"
     ]
    }
   ],
   "source": [
    "\n",
    "X_train, X_test, y_train, y_test = train_test_split(\n",
    "    X_encoded,  \n",
    "    y,          \n",
    "    test_size=0.2, \n",
    "    random_state=42, \n",
    "    stratify=y       # Keeps the same class distribution in train and test\n",
    ")\n",
    "\n",
    "print(f\"Training samples: {X_train.shape[0]}\")\n",
    "print(f\"Testing samples: {X_test.shape[0]}\")"
   ]
  },
  {
   "cell_type": "code",
   "execution_count": null,
   "metadata": {},
   "outputs": [],
   "source": []
  },
  {
   "cell_type": "markdown",
   "metadata": {},
   "source": [
    "### Problem 7: A Baseline Model\n",
    "\n",
    "Before we build our first model, we want to establish a baseline.  What is the baseline performance that our classifier should aim to beat?"
   ]
  },
  {
   "cell_type": "code",
   "execution_count": 22,
   "metadata": {},
   "outputs": [],
   "source": [
    "# Baseline score means ==>> Score that we need to beat.\n",
    "#The majority class is “no” (88.73%).\n",
    "#If we always predict “no” for everyone:\n",
    "#Accuracy = 88.73% ---#This is our baseline.\n",
    "#So when we build a real model, it needs to do better than 88.73% accuracy (We should aim to beat \n",
    "#and improve recall/precision for the “yes” class — otherwise it can not beat the baseline model."
   ]
  },
  {
   "cell_type": "code",
   "execution_count": null,
   "metadata": {},
   "outputs": [],
   "source": []
  },
  {
   "cell_type": "code",
   "execution_count": null,
   "metadata": {},
   "outputs": [],
   "source": []
  },
  {
   "cell_type": "markdown",
   "metadata": {},
   "source": [
    "### Problem 8: A Simple Model\n",
    "\n",
    "Use Logistic Regression to build a basic model on your data.  "
   ]
  },
  {
   "cell_type": "code",
   "execution_count": 16,
   "metadata": {},
   "outputs": [
    {
     "name": "stdout",
     "output_type": "stream",
     "text": [
      "Classification Report at threshold 0.5:\n",
      "               precision    recall  f1-score   support\n",
      "\n",
      "           0       0.95      0.86      0.90      7310\n",
      "           1       0.37      0.65      0.47       928\n",
      "\n",
      "    accuracy                           0.83      8238\n",
      "   macro avg       0.66      0.75      0.68      8238\n",
      "weighted avg       0.88      0.83      0.85      8238\n",
      "\n",
      "ROC-AUC Score: 0.8008768839332043\n",
      "Confusion Matrix:\n",
      " [[6273 1037]\n",
      " [ 329  599]]\n"
     ]
    }
   ],
   "source": [
    "log_reg = LogisticRegression(max_iter=1000, random_state=42, class_weight='balanced')\n",
    "log_reg.fit(X_train, y_train)\n",
    "# Predict probabilities for positive class\n",
    "y_pred_prob = log_reg.predict_proba(X_test)[:, 1]\n",
    "\n",
    "# Default threshold 0.5 predictions\n",
    "y_pred = log_reg.predict(X_test)\n",
    "\n",
    "print(\"Classification Report at threshold 0.5:\\n\", classification_report(y_test, y_pred))\n",
    "print(\"ROC-AUC Score:\", roc_auc_score(y_test, y_pred_prob))\n",
    "print(\"Confusion Matrix:\\n\", confusion_matrix(y_test, y_pred))\n",
    "#Model all predicted \"0\" because is imbalanced."
   ]
  },
  {
   "cell_type": "code",
   "execution_count": 24,
   "metadata": {},
   "outputs": [],
   "source": [
    "#Accuracy = 84% — Our model's accuracy is actually lower than the baseline of always predicting \"no\" (88.73%). \n",
    "#So strictly by accuracy, it doesn't beat the baseline.\n",
    "\n",
    "#Recall of the positive class (0.65) is pretty decent — it detects 65% of actual positives.\n",
    "\n",
    "#Precision of the positive class (0.37) is low — many of the predicted positives are false alarms.\n",
    "\n",
    "#F1-score of the positive class (0.47) shows room for improvement balancing precision and recall.\n",
    "\n",
    "#Confusion matrix shows many false positives (1029) and false negatives (329)"
   ]
  },
  {
   "cell_type": "markdown",
   "metadata": {},
   "source": [
    "### Problem 9: Score the Model\n",
    "\n",
    "What is the accuracy of your model?"
   ]
  },
  {
   "cell_type": "code",
   "execution_count": 17,
   "metadata": {},
   "outputs": [
    {
     "name": "stdout",
     "output_type": "stream",
     "text": [
      "[0.18282818 0.1597286  0.18179405 ... 0.88194752 0.83459998 0.79620374]\n",
      "[0 0 0 ... 1 1 1]\n"
     ]
    }
   ],
   "source": [
    "y_pred_log = log_reg.predict(X_encoded)\n",
    "y_pred_prob_log = log_reg.predict_proba(X_encoded)[:, 1]\n",
    "print(y_pred_prob_log)\n",
    "print(y_pred_log)"
   ]
  },
  {
   "cell_type": "code",
   "execution_count": 18,
   "metadata": {},
   "outputs": [
    {
     "name": "stdout",
     "output_type": "stream",
     "text": [
      "Classification Report at threshold 0.3:\n",
      "               precision    recall  f1-score   support\n",
      "\n",
      "           0       0.96      0.44      0.61      7310\n",
      "           1       0.17      0.87      0.28       928\n",
      "\n",
      "    accuracy                           0.49      8238\n",
      "   macro avg       0.56      0.66      0.44      8238\n",
      "weighted avg       0.87      0.49      0.57      8238\n",
      "\n",
      "Confusion Matrix:\n",
      " [[3249 4061]\n",
      " [ 124  804]]\n"
     ]
    }
   ],
   "source": [
    "# Lower threshold to 0.3 for predicting positive class\n",
    "threshold = 0.3\n",
    "y_pred_prob = log_reg.predict_proba(X_test)[:, 1]\n",
    "y_pred_lower_thresh = (y_pred_prob >= threshold).astype(int)\n",
    "\n",
    "from sklearn.metrics import classification_report, confusion_matrix\n",
    "\n",
    "print(f\"Classification Report at threshold {threshold}:\\n\", classification_report(y_test, y_pred_lower_thresh))\n",
    "print(\"Confusion Matrix:\\n\", confusion_matrix(y_test, y_pred_lower_thresh))"
   ]
  },
  {
   "cell_type": "code",
   "execution_count": 27,
   "metadata": {},
   "outputs": [],
   "source": [
    "# Accuracy dropped to 49% which is terrible. Lets find the optimum value.\n",
    "# 0.3 THRESHOLD IS NOT WORTH IT."
   ]
  },
  {
   "cell_type": "code",
   "execution_count": 19,
   "metadata": {},
   "outputs": [
    {
     "name": "stdout",
     "output_type": "stream",
     "text": [
      "Best threshold by F1-score: 0.655\n",
      "Best F1-score: 0.511\n"
     ]
    },
    {
     "data": {
      "image/png": "[encoded data removed]",
      "text/plain": [
       "<Figure size 640x480 with 1 Axes>"
      ]
     },
     "metadata": {},
     "output_type": "display_data"
    }
   ],
   "source": [
    "y_scores = log_reg.predict_proba(X_test)[:, 1]\n",
    "\n",
    "precision, recall, thresholds = precision_recall_curve(y_test, y_scores)\n",
    "\n",
    "# Calculate F1 for all thresholds\n",
    "f1_scores = 2 * (precision * recall) / (precision + recall)\n",
    "\n",
    "# Find the threshold with max F1\n",
    "best_idx = np.argmax(f1_scores)\n",
    "best_threshold = thresholds[best_idx]\n",
    "\n",
    "print(f'Best threshold by F1-score: {best_threshold:.3f}')\n",
    "print(f'Best F1-score: {f1_scores[best_idx]:.3f}')\n",
    "\n",
    "# Plot Precision-Recall curve\n",
    "plt.plot(thresholds, precision[:-1], label='Precision')\n",
    "plt.plot(thresholds, recall[:-1], label='Recall')\n",
    "plt.plot(thresholds, f1_scores[:-1], label='F1 Score')\n",
    "plt.axvline(x=best_threshold, color='r', linestyle='--', label='Best Threshold')\n",
    "plt.xlabel('Threshold')\n",
    "plt.legend()\n",
    "plt.title('Precision, Recall and F1 Score vs Threshold')\n",
    "plt.show()"
   ]
  },
  {
   "cell_type": "code",
   "execution_count": 29,
   "metadata": {},
   "outputs": [],
   "source": [
    "# BEST THRESHOLD IS 0.668"
   ]
  },
  {
   "cell_type": "code",
   "execution_count": 20,
   "metadata": {},
   "outputs": [
    {
     "name": "stdout",
     "output_type": "stream",
     "text": [
      "Classification Report at threshold 0.668:\n",
      "               precision    recall  f1-score   support\n",
      "\n",
      "           0       0.94      0.91      0.93      7310\n",
      "           1       0.46      0.58      0.51       928\n",
      "\n",
      "    accuracy                           0.87      8238\n",
      "   macro avg       0.70      0.75      0.72      8238\n",
      "weighted avg       0.89      0.87      0.88      8238\n",
      "\n",
      "Confusion Matrix:\n",
      " [[6671  639]\n",
      " [ 391  537]]\n"
     ]
    }
   ],
   "source": [
    "best_threshold = 0.668\n",
    "\n",
    "y_pred_best_thresh = (y_pred_prob >= best_threshold).astype(int)\n",
    "\n",
    "from sklearn.metrics import classification_report, confusion_matrix\n",
    "\n",
    "print(f\"Classification Report at threshold {best_threshold:.3f}:\\n\", classification_report(y_test, y_pred_best_thresh))\n",
    "print(\"Confusion Matrix:\\n\", confusion_matrix(y_test, y_pred_best_thresh))"
   ]
  },
  {
   "cell_type": "code",
   "execution_count": 32,
   "metadata": {},
   "outputs": [],
   "source": [
    "#Accuracy = 87%, which is just under our baseline (88.73%) — close though! BUBT STILL COULD NOT BEAT THE BASELINE.\n",
    "\n"
   ]
  },
  {
   "cell_type": "code",
   "execution_count": null,
   "metadata": {},
   "outputs": [],
   "source": []
  },
  {
   "cell_type": "markdown",
   "metadata": {},
   "source": [
    "### Problem 10: Model Comparisons\n",
    "\n",
    "Now, we aim to compare the performance of the Logistic Regression model to our KNN algorithm, Decision Tree, and SVM models.  Using the default settings for each of the models, fit and score each.  Also, be sure to compare the fit time of each of the models.  Present your findings in a `DataFrame` similar to that below:\n",
    "\n",
    "| Model | Train Time | Train Accuracy | Test Accuracy |\n",
    "| ----- | ---------- | -------------  | -----------   |\n",
    "|     |    |.     |.     |"
   ]
  },
  {
   "cell_type": "code",
   "execution_count": 23,
   "metadata": {},
   "outputs": [],
   "source": [
    "import pandas as pd\n",
    "import time\n",
    "from sklearn.linear_model import LogisticRegression\n",
    "from sklearn.neighbors import KNeighborsClassifier\n",
    "from sklearn.tree import DecisionTreeClassifier\n",
    "from sklearn.svm import SVC\n",
    "from sklearn.metrics import accuracy_score"
   ]
  },
  {
   "cell_type": "code",
   "execution_count": null,
   "metadata": {},
   "outputs": [],
   "source": [
    "# I MADE A MISTAKE I RUN ALL 3 MODELS WITHOUT SCALING AND THIS CAUSED EXTRAORDINARY CPU Usage"
   ]
  },
  {
   "cell_type": "code",
   "execution_count": null,
   "metadata": {},
   "outputs": [],
   "source": [
    "# Lets Scale first."
   ]
  },
  {
   "cell_type": "code",
   "execution_count": 24,
   "metadata": {},
   "outputs": [],
   "source": [
    "scaler = StandardScaler()\n",
    "X_train_scaled = scaler.fit_transform(X_train)\n",
    "X_test_scaled = scaler.transform(X_test)"
   ]
  },
  {
   "cell_type": "code",
   "execution_count": 25,
   "metadata": {},
   "outputs": [],
   "source": [
    "# Logistic Regression\n",
    "start = time.time()\n",
    "log_reg = LogisticRegression(max_iter=1000, random_state=42)\n",
    "log_reg.fit(X_train, y_train)\n",
    "log_reg_train_time = time.time() - start\n",
    "log_reg_train_acc = accuracy_score(y_train, log_reg.predict(X_train_scaled))\n",
    "log_reg_test_acc = accuracy_score(y_test, log_reg.predict(X_test_scaled))"
   ]
  },
  {
   "cell_type": "code",
   "execution_count": null,
   "metadata": {},
   "outputs": [],
   "source": []
  },
  {
   "cell_type": "code",
   "execution_count": 26,
   "metadata": {},
   "outputs": [
    {
     "name": "stderr",
     "output_type": "stream",
     "text": [
      "/opt/conda/envs/anaconda-panel-2023.05-py310/lib/python3.11/site-packages/joblib/externals/loky/backend/context.py:110: UserWarning: Could not find the number of physical cores for the following reason:\n",
      "found 0 physical cores < 1\n",
      "Returning the number of logical cores instead. You can silence this warning by setting LOKY_MAX_CPU_COUNT to the number of cores you want to use.\n",
      "  warnings.warn(\n",
      "  File \"/opt/conda/envs/anaconda-panel-2023.05-py310/lib/python3.11/site-packages/joblib/externals/loky/backend/context.py\", line 217, in _count_physical_cores\n",
      "    raise ValueError(\n"
     ]
    }
   ],
   "source": [
    "# KNN\n",
    "start = time.time()\n",
    "knn = KNeighborsClassifier(n_neighbors=3)\n",
    "knn.fit(X_train_scaled, y_train)\n",
    "knn_train_time = time.time() - start\n",
    "\n",
    "knn_train_acc = accuracy_score(y_train, knn.predict(X_train_scaled))\n",
    "knn_test_acc = accuracy_score(y_test, knn.predict(X_test_scaled))"
   ]
  },
  {
   "cell_type": "code",
   "execution_count": 27,
   "metadata": {},
   "outputs": [],
   "source": [
    "# SVM (use linear kernel for speed)\n",
    "start = time.time()\n",
    "svm = SVC(kernel='linear', random_state=42)\n",
    "svm.fit(X_train_scaled, y_train)\n",
    "svm_train_time = time.time() - start\n",
    "\n",
    "svm_train_acc = accuracy_score(y_train, svm.predict(X_train_scaled))\n",
    "svm_test_acc = accuracy_score(y_test, svm.predict(X_test_scaled))"
   ]
  },
  {
   "cell_type": "code",
   "execution_count": 28,
   "metadata": {},
   "outputs": [],
   "source": [
    "# Decision Tree\n",
    "start = time.time()\n",
    "dt = DecisionTreeClassifier(max_depth=5, random_state=42)\n",
    "dt.fit(X_train, y_train)\n",
    "dt_train_time = time.time() - start\n",
    "\n",
    "dt_train_acc = accuracy_score(y_train, dt.predict(X_train))\n",
    "dt_test_acc = accuracy_score(y_test, dt.predict(X_test))"
   ]
  },
  {
   "cell_type": "code",
   "execution_count": 30,
   "metadata": {},
   "outputs": [
    {
     "name": "stdout",
     "output_type": "stream",
     "text": [
      "                 Model  Train Time (s)  Train Accuracy  Test Accuracy\n",
      "0  Logistic Regression         49.0464          0.8785         0.8809\n",
      "1                  KNN          0.0046          0.9221         0.8863\n",
      "2        Decision Tree          0.8679          0.9029         0.9025\n",
      "3                  SVM        575.6528          0.8973         0.8978\n"
     ]
    }
   ],
   "source": [
    "results_df = pd.DataFrame({\n",
    "    'Model': ['Logistic Regression', 'KNN', 'Decision Tree', 'SVM'],\n",
    "    'Train Time (s)': [round(log_reg_train_time, 4), round(knn_train_time, 4), round(dt_train_time, 4), round(svm_train_time, 4)],\n",
    "    'Train Accuracy': [round(log_reg_train_acc, 4), round(knn_train_acc, 4), round(dt_train_acc, 4), round(svm_train_acc, 4)],\n",
    "    'Test Accuracy': [round(log_reg_test_acc, 4), round(knn_test_acc, 4), round(dt_test_acc, 4), round(svm_test_acc, 4)]\n",
    "})\n",
    "\n",
    "print(results_df)"
   ]
  },
  {
   "cell_type": "code",
   "execution_count": null,
   "metadata": {},
   "outputs": [],
   "source": [
    "#Among the four models, KNN achieved the highest training accuracy (92.21%) with a very short training time (0.0046 seconds),\n",
    "#and its test accuracy (88.63%) was slightly higher than Logistic Regression.\n",
    "# Decision Tree delivered balanced performance with strong accuracy on both training (90.29%) and\n",
    "#testing (90.25%) while keeping training time under a second. Logistic Regression performed consistently\n",
    "#with 87.85% training and 88.09% testing accuracy but required a longer training time (49.05 seconds).\n",
    "#SVM showed good accuracy (around 89%) but had the slowest training process by far (over 575 seconds),\n",
    "#making it less efficient compared to the others despite its stable results."
   ]
  },
  {
   "cell_type": "code",
   "execution_count": null,
   "metadata": {},
   "outputs": [],
   "source": [
    "##THIS IS AI JUST WANTED TO COMPARE WITH MINE\n",
    "##WHAT I BELIEVE IS MY CODE IS CLEANER AND EASY TO UNDERSTAND.\n",
    "#models = {\n",
    " #   'Logistic Regression': LogisticRegression(max_iter=1000, random_state=42),\n",
    "  #  'KNN': KNeighborsClassifier(),\n",
    "   # 'Decision Tree': DecisionTreeClassifier(random_state=42),\n",
    "    #'SVM': SVC(random_state=42)\n",
    "#}\n",
    "\n",
    "#results = []\n",
    "\n",
    "#for model_name, model in models.items():\n",
    " #   start_time = time.time()\n",
    "  #  model.fit(X_train, y_train)\n",
    "   # train_time = time.time() - start_time\n",
    "    \n",
    "    #y_train_pred = model.predict(X_train)\n",
    "    #y_test_pred = model.predict(X_test)\n",
    "    \n",
    "    #train_acc = accuracy_score(y_train, y_train_pred)\n",
    "    #test_acc = accuracy_score(y_test, y_test_pred)\n",
    "    \n",
    "    #results.append({\n",
    "     #   'Model': model_name,\n",
    "      #  'Train Time (s)': round(train_time, 4),\n",
    "       # 'Train Accuracy': round(train_acc, 4),\n",
    "        #'Test Accuracy': round(test_acc, 4)\n",
    "    #})\n",
    "\n",
    "## Convert results to DataFrame for nice display\n",
    "#results_df = pd.DataFrame(results)\n",
    "#print(results_df)(This is AI JUST WANTED TO COMPARE WITH MINE.)"
   ]
  },
  {
   "cell_type": "markdown",
   "metadata": {},
   "source": [
    "### Problem 11: Improving the Model\n",
    "\n",
    "Now that we have some basic models on the board, we want to try to improve these.  Below, we list a few things to explore in this pursuit.\n",
    "\n",
    "- More feature engineering and exploration.  For example, should we keep the gender feature?  Why or why not?\n",
    "- Hyperparameter tuning and grid search.  All of our models have additional hyperparameters to tune and explore.  For example the number of neighbors in KNN or the maximum depth of a Decision Tree.  \n",
    "- Adjust your performance metric"
   ]
  },
  {
   "cell_type": "code",
   "execution_count": 33,
   "metadata": {},
   "outputs": [],
   "source": [
    "#WE DO NOT HAVE 'GENDER' COLUMN."
   ]
  },
  {
   "cell_type": "code",
   "execution_count": 34,
   "metadata": {},
   "outputs": [],
   "source": [
    "knn = KNeighborsClassifier()\n",
    "dt = DecisionTreeClassifier(random_state=42)\n"
   ]
  },
  {
   "cell_type": "code",
   "execution_count": 35,
   "metadata": {},
   "outputs": [],
   "source": [
    "# Define hyperparameter grids\n",
    "knn_params = {'n_neighbors': [3,5,7,9], 'weights': ['uniform', 'distance']}\n",
    "dt_params = {'max_depth': [None, 5, 10, 15], 'min_samples_leaf': [1, 2, 4]}"
   ]
  },
  {
   "cell_type": "code",
   "execution_count": 36,
   "metadata": {},
   "outputs": [],
   "source": [
    "# Grid search for KNN\n",
    "knn_grid = GridSearchCV(knn, knn_params, cv=3, scoring='f1', n_jobs=-1)\n",
    "knn_grid.fit(X_train, y_train)\n",
    "knn_best = knn_grid.best_estimator_"
   ]
  },
  {
   "cell_type": "code",
   "execution_count": 37,
   "metadata": {},
   "outputs": [],
   "source": [
    "# Grid search for Decision Tree\n",
    "dt_grid = GridSearchCV(dt, dt_params, cv=3, scoring='f1', n_jobs=-1)\n",
    "dt_grid.fit(X_train, y_train)\n",
    "dt_best = dt_grid.best_estimator_"
   ]
  },
  {
   "cell_type": "code",
   "execution_count": 39,
   "metadata": {},
   "outputs": [],
   "source": [
    "from sklearn.metrics import accuracy_score, precision_score, recall_score, f1_score\n"
   ]
  },
  {
   "cell_type": "code",
   "execution_count": 40,
   "metadata": {},
   "outputs": [
    {
     "name": "stdout",
     "output_type": "stream",
     "text": [
      "\n",
      "KNN best params: {'algorithm': 'auto', 'leaf_size': 30, 'metric': 'minkowski', 'metric_params': None, 'n_jobs': None, 'n_neighbors': 5, 'p': 2, 'weights': 'uniform'}\n",
      "KNN Test Accuracy: 0.8980\n",
      "KNN Test Precision: 0.5940\n",
      "KNN Test Recall: 0.2996\n",
      "KNN Test F1 Score: 0.3983\n",
      "\n",
      "Decision Tree best params: {'ccp_alpha': 0.0, 'class_weight': None, 'criterion': 'gini', 'max_depth': 5, 'max_features': None, 'max_leaf_nodes': None, 'min_impurity_decrease': 0.0, 'min_samples_leaf': 1, 'min_samples_split': 2, 'min_weight_fraction_leaf': 0.0, 'random_state': 42, 'splitter': 'best'}\n",
      "Decision Tree Test Accuracy: 0.9025\n",
      "Decision Tree Test Precision: 0.6801\n",
      "Decision Tree Test Recall: 0.2543\n",
      "Decision Tree Test F1 Score: 0.3702\n"
     ]
    }
   ],
   "source": [
    "for model_name, model in [('KNN', knn_best), ('Decision Tree', dt_best)]:\n",
    "    y_pred = model.predict(X_test)\n",
    "    print(f\"\\n{model_name} best params: {model.get_params()}\")\n",
    "    print(f\"{model_name} Test Accuracy: {accuracy_score(y_test, y_pred):.4f}\")\n",
    "    print(f\"{model_name} Test Precision: {precision_score(y_test, y_pred):.4f}\")\n",
    "    print(f\"{model_name} Test Recall: {recall_score(y_test, y_pred):.4f}\")\n",
    "    print(f\"{model_name} Test F1 Score: {f1_score(y_test, y_pred):.4f}\")"
   ]
  },
  {
   "cell_type": "code",
   "execution_count": 42,
   "metadata": {},
   "outputs": [],
   "source": [
    "#Both KNN and Decision Tree achieve around 90% accuracy,\n",
    "#but this can be deceptive if the dataset is imbalanced. \n",
    "#KNN shows reasonable precision (59%) but low recall (30%), missing many actual positive cases. \n",
    "#The Decision Tree improves precision (68%) but has even lower recall (25%), \n",
    "#indicating it predicts positives more cautiously but identifies fewer true positives. \n",
    "#The relatively low F1 scores (around 37-40%) highlight a challenge in balancing precision and recall. \n",
    "#To enhance performance, strategies to boost recall—such as adjusting classification thresholds\n",
    "#or applying data balancing methods—should be considered.\n"
   ]
  },
  {
   "cell_type": "code",
   "execution_count": null,
   "metadata": {},
   "outputs": [],
   "source": []
  },
  {
   "cell_type": "code",
   "execution_count": null,
   "metadata": {},
   "outputs": [],
   "source": []
  },
  {
   "cell_type": "markdown",
   "metadata": {},
   "source": [
    "##### Questions"
   ]
  }
 ],
 "metadata": {
  "kernelspec": {
   "display_name": "anaconda-panel-2023.05-py310",
   "language": "python",
   "name": "conda-env-anaconda-panel-2023.05-py310-py"
  },
  "language_info": {
   "codemirror_mode": {
    "name": "ipython",
    "version": 3
   },
   "file_extension": ".py",
   "mimetype": "text/x-python",
   "name": "python",
   "nbconvert_exporter": "python",
   "pygments_lexer": "ipython3",
   "version": "3.11.5"
  },
  "widgets": {
   "application/vnd.jupyter.widget-state+json": {
    "state": {},
    "version_major": 2,
    "version_minor": 0
   }
  }
 },
 "nbformat": 4,
 "nbformat_minor": 4
}
